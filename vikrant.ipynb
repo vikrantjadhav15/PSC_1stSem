{
 "cells": [
  {
   "cell_type": "code",
   "execution_count": 1,
   "id": "b2e1527c-a0f2-44c3-bd6c-eeb083399491",
   "metadata": {},
   "outputs": [],
   "source": [
    "name =\"vikrant jadhav\""
   ]
  },
  {
   "cell_type": "code",
   "execution_count": 2,
   "id": "acc004e4-2b40-4043-8d05-5a595ea2c82b",
   "metadata": {},
   "outputs": [
    {
     "data": {
      "text/plain": [
       "'vikrant jadhav'"
      ]
     },
     "execution_count": 2,
     "metadata": {},
     "output_type": "execute_result"
    }
   ],
   "source": [
    "name"
   ]
  },
  {
   "cell_type": "code",
   "execution_count": 3,
   "id": "45ec00a9-7225-4acc-a080-c9b2f5e54f33",
   "metadata": {},
   "outputs": [
    {
     "data": {
      "text/plain": [
       "'vikrant jadhav'"
      ]
     },
     "execution_count": 3,
     "metadata": {},
     "output_type": "execute_result"
    }
   ],
   "source": [
    "#Convert it into capslock\n",
    "# VIKRANT JADHAV\n",
    "name"
   ]
  },
  {
   "cell_type": "code",
   "execution_count": 4,
   "id": "e9a1be7d-49c5-455d-bd09-f84ca3f63dca",
   "metadata": {},
   "outputs": [],
   "source": [
    " name =name.lower()"
   ]
  },
  {
   "cell_type": "code",
   "execution_count": 5,
   "id": "330f799b-717a-48a3-af70-a9153bfc008d",
   "metadata": {},
   "outputs": [
    {
     "data": {
      "text/plain": [
       "'vikrant jadhav'"
      ]
     },
     "execution_count": 5,
     "metadata": {},
     "output_type": "execute_result"
    }
   ],
   "source": [
    "name"
   ]
  },
  {
   "cell_type": "code",
   "execution_count": 6,
   "id": "85a292c5-14ef-4108-970c-e96ba12762fc",
   "metadata": {},
   "outputs": [],
   "source": [
    "name1= \"VikRANt JadAhV\""
   ]
  },
  {
   "cell_type": "code",
   "execution_count": 7,
   "id": "8a00ac77-0110-427c-8907-28a03a960995",
   "metadata": {},
   "outputs": [
    {
     "data": {
      "text/plain": [
       "'VikRANt JadAhV'"
      ]
     },
     "execution_count": 7,
     "metadata": {},
     "output_type": "execute_result"
    }
   ],
   "source": [
    "name1"
   ]
  },
  {
   "cell_type": "code",
   "execution_count": 10,
   "id": "d7860ec1-d539-4f38-a933-d7fc259101cb",
   "metadata": {},
   "outputs": [
    {
     "data": {
      "text/plain": [
       "'vIKranT jADaHv'"
      ]
     },
     "execution_count": 10,
     "metadata": {},
     "output_type": "execute_result"
    }
   ],
   "source": [
    "#Captial Letter Should Become small vice versa\n",
    "name1.swapcase()"
   ]
  },
  {
   "cell_type": "code",
   "execution_count": 13,
   "id": "232fd21a-4f7c-41a8-914c-f61a535b6e6e",
   "metadata": {},
   "outputs": [],
   "source": [
    "name2= \"    Vijayalaxmi Mhetri   \""
   ]
  },
  {
   "cell_type": "code",
   "execution_count": 14,
   "id": "3722ecab-329e-4f81-a710-e18467aa7591",
   "metadata": {},
   "outputs": [
    {
     "data": {
      "text/plain": [
       "'    Vijayalaxmi Mhetri   '"
      ]
     },
     "execution_count": 14,
     "metadata": {},
     "output_type": "execute_result"
    }
   ],
   "source": [
    "name2"
   ]
  },
  {
   "cell_type": "code",
   "execution_count": 15,
   "id": "77c9ee46-be4e-42c1-ae2a-f8ec647cf3ef",
   "metadata": {},
   "outputs": [
    {
     "data": {
      "text/plain": [
       "'Vijayalaxmi Mhetri   '"
      ]
     },
     "execution_count": 15,
     "metadata": {},
     "output_type": "execute_result"
    }
   ],
   "source": [
    "#1. remove Left space\n",
    "#2. remove right space\n",
    "#3. remove both left and right space\n",
    "name2.lstrip()"
   ]
  },
  {
   "cell_type": "code",
   "execution_count": 16,
   "id": "efbce86a-2d12-445d-9a1b-62557ab0f93f",
   "metadata": {},
   "outputs": [
    {
     "data": {
      "text/plain": [
       "'Vijayalaxmi Mhetri'"
      ]
     },
     "execution_count": 16,
     "metadata": {},
     "output_type": "execute_result"
    }
   ],
   "source": [
    "name2.strip()"
   ]
  },
  {
   "cell_type": "code",
   "execution_count": 17,
   "id": "5fae513b-a64f-42d0-b83e-fbae7b88ce95",
   "metadata": {},
   "outputs": [
    {
     "data": {
      "text/plain": [
       "'    Vijayalaxmi Mhetri   '"
      ]
     },
     "execution_count": 17,
     "metadata": {},
     "output_type": "execute_result"
    }
   ],
   "source": [
    "name2"
   ]
  },
  {
   "cell_type": "code",
   "execution_count": 26,
   "id": "581f06ba-0ec7-46d2-995e-df78261027ad",
   "metadata": {},
   "outputs": [
    {
     "data": {
      "text/plain": [
       "'   Rohit jaan   '"
      ]
     },
     "execution_count": 26,
     "metadata": {},
     "output_type": "execute_result"
    }
   ],
   "source": [
    "name3= \"   Rohit jaan   \"\n",
    "name3"
   ]
  },
  {
   "cell_type": "code",
   "execution_count": 27,
   "id": "c60bf722-3234-43b4-b7b8-a05e91d4f4ba",
   "metadata": {},
   "outputs": [
    {
     "data": {
      "text/plain": [
       "'   Rohit jaan   '"
      ]
     },
     "execution_count": 27,
     "metadata": {},
     "output_type": "execute_result"
    }
   ],
   "source": [
    "name3"
   ]
  },
  {
   "cell_type": "code",
   "execution_count": 28,
   "id": "5490226b-e001-4ee1-8240-7776d48c1ed4",
   "metadata": {},
   "outputs": [],
   "source": [
    "# Bring this output\n",
    "# **** Rohit Jaan ****"
   ]
  },
  {
   "cell_type": "code",
   "execution_count": null,
   "id": "ddd608a8-2a52-41ab-9dfa-c2a6370eb342",
   "metadata": {},
   "outputs": [],
   "source": [
    "                                                                                                                                                                                                                                                                                                     "
   ]
  }
 ],
 "metadata": {
  "kernelspec": {
   "display_name": "Python 3 (ipykernel)",
   "language": "python",
   "name": "python3"
  },
  "language_info": {
   "codemirror_mode": {
    "name": "ipython",
    "version": 3
   },
   "file_extension": ".py",
   "mimetype": "text/x-python",
   "name": "python",
   "nbconvert_exporter": "python",
   "pygments_lexer": "ipython3",
   "version": "3.12.4"
  }
 },
 "nbformat": 4,
 "nbformat_minor": 5
}
